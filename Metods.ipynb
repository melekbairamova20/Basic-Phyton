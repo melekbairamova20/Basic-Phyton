{
  "nbformat": 4,
  "nbformat_minor": 0,
  "metadata": {
    "colab": {
      "provenance": [],
      "gpuType": "T4",
      "authorship_tag": "ABX9TyNG/KhglBtZYlBa2gTEPGd9",
      "include_colab_link": true
    },
    "kernelspec": {
      "name": "python3",
      "display_name": "Python 3"
    },
    "language_info": {
      "name": "python"
    },
    "accelerator": "GPU"
  },
  "cells": [
    {
      "cell_type": "markdown",
      "metadata": {
        "id": "view-in-github",
        "colab_type": "text"
      },
      "source": [
        "<a href=\"https://colab.research.google.com/github/melekbairamova20/Basic-Phyton/blob/main/Metods.ipynb\" target=\"_parent\"><img src=\"https://colab.research.google.com/assets/colab-badge.svg\" alt=\"Open In Colab\"/></a>"
      ]
    },
    {
      "cell_type": "code",
      "execution_count": null,
      "metadata": {
        "id": "ZX18cVSqqoAI"
      },
      "outputs": [],
      "source": [
        "class cars():\n",
        "  model = \"BMW\"\n",
        "  colour = \"black\"\n",
        "  wheel = 4\n"
      ]
    },
    {
      "cell_type": "code",
      "source": [
        "car1 = cars()"
      ],
      "metadata": {
        "id": "AoH1cTyFCK5c"
      },
      "execution_count": null,
      "outputs": []
    },
    {
      "cell_type": "code",
      "source": [
        "car1"
      ],
      "metadata": {
        "colab": {
          "base_uri": "https://localhost:8080/"
        },
        "id": "a-yMThd2CRvJ",
        "outputId": "b2a5e9be-612b-471f-c835-c16ab032a93f"
      },
      "execution_count": null,
      "outputs": [
        {
          "output_type": "execute_result",
          "data": {
            "text/plain": [
              "<__main__.cars at 0x7da4a56b1bd0>"
            ]
          },
          "metadata": {},
          "execution_count": 3
        }
      ]
    },
    {
      "cell_type": "code",
      "source": [
        "car2 = cars()"
      ],
      "metadata": {
        "id": "95UjM9MwCTCu"
      },
      "execution_count": null,
      "outputs": []
    },
    {
      "cell_type": "code",
      "source": [
        "car2"
      ],
      "metadata": {
        "colab": {
          "base_uri": "https://localhost:8080/"
        },
        "id": "agvDVaH4CaN1",
        "outputId": "40ca30b0-355c-4737-a727-b556a29ab89d"
      },
      "execution_count": null,
      "outputs": [
        {
          "output_type": "execute_result",
          "data": {
            "text/plain": [
              "<__main__.cars at 0x7da4a56b30a0>"
            ]
          },
          "metadata": {},
          "execution_count": 5
        }
      ]
    },
    {
      "cell_type": "code",
      "source": [
        "car1.model"
      ],
      "metadata": {
        "colab": {
          "base_uri": "https://localhost:8080/",
          "height": 35
        },
        "id": "vSj776cuCa-d",
        "outputId": "d6b4a25b-f588-44c9-d16b-33f4d0b28908"
      },
      "execution_count": null,
      "outputs": [
        {
          "output_type": "execute_result",
          "data": {
            "text/plain": [
              "'BMW'"
            ],
            "application/vnd.google.colaboratory.intrinsic+json": {
              "type": "string"
            }
          },
          "metadata": {},
          "execution_count": 6
        }
      ]
    },
    {
      "cell_type": "code",
      "source": [
        "car2.colour"
      ],
      "metadata": {
        "colab": {
          "base_uri": "https://localhost:8080/",
          "height": 35
        },
        "id": "fhhwi9QkChUd",
        "outputId": "b3f1575c-3071-460d-c140-c52704145c0a"
      },
      "execution_count": null,
      "outputs": [
        {
          "output_type": "execute_result",
          "data": {
            "text/plain": [
              "'black'"
            ],
            "application/vnd.google.colaboratory.intrinsic+json": {
              "type": "string"
            }
          },
          "metadata": {},
          "execution_count": 7
        }
      ]
    },
    {
      "cell_type": "code",
      "source": [
        "cars.model"
      ],
      "metadata": {
        "colab": {
          "base_uri": "https://localhost:8080/",
          "height": 35
        },
        "id": "huuo6luPCjCU",
        "outputId": "553b8a4a-c8d2-4c9a-f105-45f32ad95914"
      },
      "execution_count": null,
      "outputs": [
        {
          "output_type": "execute_result",
          "data": {
            "text/plain": [
              "'BMW'"
            ],
            "application/vnd.google.colaboratory.intrinsic+json": {
              "type": "string"
            }
          },
          "metadata": {},
          "execution_count": 8
        }
      ]
    },
    {
      "cell_type": "code",
      "source": [
        "dir(car1)"
      ],
      "metadata": {
        "colab": {
          "base_uri": "https://localhost:8080/"
        },
        "id": "fsW69E_iDflj",
        "outputId": "3c793094-9413-4e96-b680-4f9731081a9a"
      },
      "execution_count": null,
      "outputs": [
        {
          "output_type": "execute_result",
          "data": {
            "text/plain": [
              "['__class__',\n",
              " '__delattr__',\n",
              " '__dict__',\n",
              " '__dir__',\n",
              " '__doc__',\n",
              " '__eq__',\n",
              " '__format__',\n",
              " '__ge__',\n",
              " '__getattribute__',\n",
              " '__gt__',\n",
              " '__hash__',\n",
              " '__init__',\n",
              " '__init_subclass__',\n",
              " '__le__',\n",
              " '__lt__',\n",
              " '__module__',\n",
              " '__ne__',\n",
              " '__new__',\n",
              " '__reduce__',\n",
              " '__reduce_ex__',\n",
              " '__repr__',\n",
              " '__setattr__',\n",
              " '__sizeof__',\n",
              " '__str__',\n",
              " '__subclasshook__',\n",
              " '__weakref__',\n",
              " 'colour',\n",
              " 'model',\n",
              " 'wheel']"
            ]
          },
          "metadata": {},
          "execution_count": 9
        }
      ]
    },
    {
      "cell_type": "code",
      "source": [
        "class cars():\n",
        "  def __init__(self):\n",
        "    print(\"Called function.\")"
      ],
      "metadata": {
        "id": "_-H5YRuoHchX"
      },
      "execution_count": null,
      "outputs": []
    },
    {
      "cell_type": "code",
      "source": [
        "class cars():\n",
        "  model = \"BMW\"\n",
        "  colour = \"black\"\n",
        "  wheel = 4\n",
        "  def __init__(self):\n",
        "    print(\"Called Init function\")"
      ],
      "metadata": {
        "id": "9sctnDxCIEDn"
      },
      "execution_count": null,
      "outputs": []
    },
    {
      "cell_type": "code",
      "source": [
        "car1 = cars()"
      ],
      "metadata": {
        "colab": {
          "base_uri": "https://localhost:8080/"
        },
        "id": "uBmzdeRyITSR",
        "outputId": "fe257a14-65da-41de-fde8-9e62c32eb845"
      },
      "execution_count": null,
      "outputs": [
        {
          "output_type": "stream",
          "name": "stdout",
          "text": [
            "Called Init function\n"
          ]
        }
      ]
    },
    {
      "cell_type": "code",
      "source": [
        "class cars():\n",
        "  def __init__(self, model, colour, wheel):\n",
        "    self.model = model\n",
        "    self.colour = colour\n",
        "    self.wheel = wheel\n"
      ],
      "metadata": {
        "id": "qgDU4mBDIWLp"
      },
      "execution_count": null,
      "outputs": []
    },
    {
      "cell_type": "code",
      "source": [
        "car1 = cars(\"Tesla\", \"gray\", 4)"
      ],
      "metadata": {
        "id": "UywqjU8cIyc_"
      },
      "execution_count": null,
      "outputs": []
    },
    {
      "cell_type": "code",
      "source": [
        "car1"
      ],
      "metadata": {
        "colab": {
          "base_uri": "https://localhost:8080/"
        },
        "id": "zmZtXtvcI5iO",
        "outputId": "dcae295e-55d1-4419-b13e-f947008cad45"
      },
      "execution_count": null,
      "outputs": [
        {
          "output_type": "execute_result",
          "data": {
            "text/plain": [
              "<__main__.cars at 0x7da4a56b3a00>"
            ]
          },
          "metadata": {},
          "execution_count": 15
        }
      ]
    },
    {
      "cell_type": "code",
      "source": [
        "car1.model"
      ],
      "metadata": {
        "colab": {
          "base_uri": "https://localhost:8080/",
          "height": 35
        },
        "id": "qpBPBKwsI6fz",
        "outputId": "b1d5c283-315f-448e-8c97-ad2b9701da4a"
      },
      "execution_count": null,
      "outputs": [
        {
          "output_type": "execute_result",
          "data": {
            "text/plain": [
              "'Tesla'"
            ],
            "application/vnd.google.colaboratory.intrinsic+json": {
              "type": "string"
            }
          },
          "metadata": {},
          "execution_count": 16
        }
      ]
    },
    {
      "cell_type": "code",
      "source": [
        "class programmer():\n",
        "  def __init__(self, name, last_name, number, salary, programming_language):\n",
        "    self.name = name\n",
        "    self.last_name = last_name\n",
        "    self.number = number\n",
        "    self.salary = salary\n",
        "    self.programming_language = programming_language\n",
        "  def information(self):\n",
        "    print(\"\"\"\n",
        "    Information about the programmer\n",
        "\n",
        "    name : {}\n",
        "    last_name : {}\n",
        "    number : {}\n",
        "    salary : {}\n",
        "    programming_language : {}\n",
        "\n",
        "    \"\"\".format(self.name, self.last_name, self.number, self.salary, self.programming_language))"
      ],
      "metadata": {
        "id": "0Wl2dKvqJBa1"
      },
      "execution_count": null,
      "outputs": []
    },
    {
      "cell_type": "code",
      "source": [
        "programmer = programmer(\"Ali\", \"Muradov\", 12345, 1600, [\"C++\", \"Python\", \"Java\"])"
      ],
      "metadata": {
        "id": "v71NU3_kDzih"
      },
      "execution_count": null,
      "outputs": []
    },
    {
      "cell_type": "code",
      "source": [
        "programmer"
      ],
      "metadata": {
        "colab": {
          "base_uri": "https://localhost:8080/"
        },
        "id": "U_pwMVp2EHKK",
        "outputId": "8864a46b-0874-441a-a367-b49d6d0f70bb"
      },
      "execution_count": null,
      "outputs": [
        {
          "output_type": "execute_result",
          "data": {
            "text/plain": [
              "<__main__.programmer at 0x7da4a56b3670>"
            ]
          },
          "metadata": {},
          "execution_count": 20
        }
      ]
    },
    {
      "cell_type": "code",
      "source": [
        "programmer.information()"
      ],
      "metadata": {
        "colab": {
          "base_uri": "https://localhost:8080/"
        },
        "id": "s89Uv36XEJql",
        "outputId": "86f073f0-6365-4e04-f733-e8d86141295d"
      },
      "execution_count": null,
      "outputs": [
        {
          "output_type": "stream",
          "name": "stdout",
          "text": [
            "\n",
            "    Information about the programmer\n",
            "\n",
            "    name : Ali\n",
            "    last_name : Muradov\n",
            "    number : 12345\n",
            "    salary : 1600\n",
            "    programming_language : ['C++', 'Python', 'Java']\n",
            "\n",
            "    \n"
          ]
        }
      ]
    },
    {
      "cell_type": "code",
      "source": [],
      "metadata": {
        "id": "28AnesqlEPjU"
      },
      "execution_count": null,
      "outputs": []
    }
  ]
}