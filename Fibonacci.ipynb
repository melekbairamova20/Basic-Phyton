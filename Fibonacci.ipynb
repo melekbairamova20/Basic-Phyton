{
  "nbformat": 4,
  "nbformat_minor": 0,
  "metadata": {
    "colab": {
      "provenance": [],
      "authorship_tag": "ABX9TyM4GhpPnvaqjTQ4uooesVE+",
      "include_colab_link": true
    },
    "kernelspec": {
      "name": "python3",
      "display_name": "Python 3"
    },
    "language_info": {
      "name": "python"
    }
  },
  "cells": [
    {
      "cell_type": "markdown",
      "metadata": {
        "id": "view-in-github",
        "colab_type": "text"
      },
      "source": [
        "<a href=\"https://colab.research.google.com/github/melekbairamova20/Basic-Phyton/blob/main/Fibonacci.ipynb\" target=\"_parent\"><img src=\"https://colab.research.google.com/assets/colab-badge.svg\" alt=\"Open In Colab\"/></a>"
      ]
    },
    {
      "cell_type": "code",
      "execution_count": 2,
      "metadata": {
        "colab": {
          "base_uri": "https://localhost:8080/"
        },
        "id": "Y979pArUNm3J",
        "outputId": "a478f62c-00cf-4d18-f718-d8c3eee40801"
      },
      "outputs": [
        {
          "output_type": "stream",
          "name": "stdout",
          "text": [
            " \n",
            "Fibonacci ozunden evvelki ile ozunu toplamaqla yaranir.\n",
            "\n",
            "1, 1, 2, 3, 5, 8, 13, 21...\n",
            "\n",
            "[1, 1, 2, 3, 5, 8, 13, 21, 34, 55, 89, 144]\n"
          ]
        }
      ],
      "source": [
        "print(\"\"\"\n",
        "Fibonacci ozunden evvelki ile ozunu toplamaqla yaranir.\n",
        "\n",
        "1, 1, 2, 3, 5, 8, 13, 21...\n",
        "\"\"\")\n",
        "\n",
        "a = 1\n",
        "b = 1\n",
        "fibonacci = [a,b]\n",
        "\n",
        "for i in range(10):\n",
        "  a,b = b, a+b\n",
        "  fibonacci.append(b)\n",
        "print(fibonacci)"
      ]
    },
    {
      "cell_type": "code",
      "source": [],
      "metadata": {
        "id": "63MCJoY3ORPu"
      },
      "execution_count": null,
      "outputs": []
    }
  ]
}