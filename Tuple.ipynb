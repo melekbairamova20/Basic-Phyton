{
  "nbformat": 4,
  "nbformat_minor": 0,
  "metadata": {
    "colab": {
      "provenance": [],
      "authorship_tag": "ABX9TyMSTZ26aP2NVp4rXVFn/iT/",
      "include_colab_link": true
    },
    "kernelspec": {
      "name": "python3",
      "display_name": "Python 3"
    },
    "language_info": {
      "name": "python"
    }
  },
  "cells": [
    {
      "cell_type": "markdown",
      "metadata": {
        "id": "view-in-github",
        "colab_type": "text"
      },
      "source": [
        "<a href=\"https://colab.research.google.com/github/melekbairamova20/Basic-Phyton/blob/main/Tuple.ipynb\" target=\"_parent\"><img src=\"https://colab.research.google.com/assets/colab-badge.svg\" alt=\"Open In Colab\"/></a>"
      ]
    },
    {
      "cell_type": "code",
      "execution_count": 1,
      "metadata": {
        "colab": {
          "base_uri": "https://localhost:8080/"
        },
        "id": "3b7q5UzGMNB0",
        "outputId": "5fd65afe-0018-49ff-8bd7-59586d94aa95"
      },
      "outputs": [
        {
          "output_type": "stream",
          "name": "stdout",
          "text": [
            "4\n"
          ]
        }
      ],
      "source": [
        "# tuple = (1,2,3,4)\n",
        "# print(list(tuple))\n",
        "\n",
        "# tuple = (\"Melek\")\n",
        "# print(type(tuple))\n",
        "\n",
        "# tuple = (1,2,3,4,5)\n",
        "# print(tuple[3])\n",
        "\n",
        "# tuple = (\"Melek\", \"Meryem\", \"you\")\n",
        "# print(tuple[-1]) # sonuncu yerde durani cixarir.\n",
        "\n",
        "# tuple = (23,4,5,6,332,1,2)\n",
        "# print(tuple[0]) #ilk yerde durani cixarir.\n",
        "\n",
        "# tuple = (34,12,43,46,34,2,12)\n",
        "# print(tuple[:3]) # 3 cu yerde duran reqeme qeder yazir.\n",
        "\n",
        "# tuple = (2,3,43,23,12,34,4)\n",
        "# print(tuple[::-1]) #tuple-i ters cevirir.\n",
        "\n",
        "# tuplelerin sadece 2 funksiyasi var.\n",
        "\n",
        "# tuple = (1,1,1,1,2,3,4,54,5)\n",
        "# # tuple.count(1)\n",
        "# print(tuple.count(1)) # 1 den nece dene var deye sayir.\n",
        "\n",
        "tuple = (23,4,1,3,2,34,67)\n",
        "print(tuple.index(2)) # 2 reqeminin indeksini deyir.\n",
        "\n",
        "tuple = (34,32,12,2,35,54,12)"
      ]
    },
    {
      "cell_type": "code",
      "source": [],
      "metadata": {
        "id": "_cSEWP30MUyF"
      },
      "execution_count": null,
      "outputs": []
    }
  ]
}