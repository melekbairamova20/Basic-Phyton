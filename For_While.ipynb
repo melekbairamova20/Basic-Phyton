{
  "nbformat": 4,
  "nbformat_minor": 0,
  "metadata": {
    "colab": {
      "provenance": [],
      "authorship_tag": "ABX9TyOm49SBEdd/wICP3zxxZ8TO",
      "include_colab_link": true
    },
    "kernelspec": {
      "name": "python3",
      "display_name": "Python 3"
    },
    "language_info": {
      "name": "python"
    }
  },
  "cells": [
    {
      "cell_type": "markdown",
      "metadata": {
        "id": "view-in-github",
        "colab_type": "text"
      },
      "source": [
        "<a href=\"https://colab.research.google.com/github/melekbairamova20/Basic-Phyton/blob/main/For_While.ipynb\" target=\"_parent\"><img src=\"https://colab.research.google.com/assets/colab-badge.svg\" alt=\"Open In Colab\"/></a>"
      ]
    },
    {
      "cell_type": "code",
      "execution_count": null,
      "metadata": {
        "id": "V62V_QxoMjH-"
      },
      "outputs": [],
      "source": [
        "# print(5 in [1,2,3,4]) # 5 in hemin arrayin icinde olub olmadigina baxir.\n",
        "# print(5 in [1,2,3,4,5])\n",
        "# print(\"n\" in \"phyton\")\n",
        "# print(\"s\" in \"melek\")\n",
        "# print(not 4 in [1,2,3,4,5])\n",
        "\n",
        "# arr = [1,2,3,4,5,6,7]\n",
        "# for i in arr:\n",
        "#     print (i)\n",
        "\n",
        "# sum = 0\n",
        "# arr = [23,4,6,7,41,3,6,8,9]\n",
        "#\n",
        "# for i in arr:\n",
        "#     sum += i\n",
        "# print(sum)\n",
        "\n",
        "# arr = [1,2,3,4,41,5,6,67,7,90]\n",
        "# for i in arr:\n",
        "#     if (i % 2 == 0):\n",
        "#         print(i)\n",
        "#     else :\n",
        "#         print(\"This is odd number\", i)\n",
        "\n",
        "# word = 'phyton'\n",
        "# for i in word:\n",
        "#     print(i)\n",
        "\n",
        "# tuple = (1,2,3,4,5,6)\n",
        "# for i in tuple:\n",
        "#     print(i)\n",
        "\n",
        "# arr = [(1,2), (3,4), (5,6), (7,8)]\n",
        "# for i in arr:\n",
        "#     print(i)\n",
        "\n",
        "# arr = [(1,4), (34,67), (37,90)]\n",
        "# for (i,j) in arr:\n",
        "#     print(\"i:{} j: {} \".format(i,j))\n",
        "\n",
        "# dictionary = {\"bir\" : 1, \"iki\" : 2, \"uc\" : 3 }\n",
        "# print(dictionary.items())  #burada keys -> sol terefde olani cixarir, values -> sag terefde olani cixarir, items -> hamisini cixarir.\n",
        "\n",
        "# dictionary = {\"bir\" : 1, \"iki\" : 2, \"uc\" : 3 }\n",
        "# for n in dictionary.items():\n",
        "#     print(n)\n",
        "\n",
        "#   WHILE\n",
        "# i = 1\n",
        "# while (i <= 10):\n",
        "#     print(i)\n",
        "#     i += 1\n",
        "\n",
        "# a = 0\n",
        "# while(a<=20):\n",
        "#     print(\"Hello World!\")\n",
        "#     a += 1\n",
        "\n",
        "# arr = [1,2,3,4,5]\n",
        "# # for i in arr:\n",
        "# #     print(i)\n",
        "#\n",
        "# index = 0\n",
        "# while(index < len(arr)):\n",
        "#     print(\"indeks:\", index, \"arrayin nomresi:\", arr[index])\n",
        "#     index += 1\n",
        "\n",
        "# print(*range(1,11))\n",
        "# print(*range(19))\n",
        "# print(*range(0,50,6))\n",
        "# print(*range(30,0,-2))\n",
        "\n",
        "# for i in range(1,101):\n",
        "#     print(i)\n",
        "\n",
        "for i in range (1,8):\n",
        "    print(\"*\" * i)"
      ]
    },
    {
      "cell_type": "code",
      "source": [],
      "metadata": {
        "id": "tiX2hC4DMl-q"
      },
      "execution_count": null,
      "outputs": []
    }
  ]
}