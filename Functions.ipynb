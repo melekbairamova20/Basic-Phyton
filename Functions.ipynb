{
  "nbformat": 4,
  "nbformat_minor": 0,
  "metadata": {
    "colab": {
      "provenance": [],
      "gpuType": "V28",
      "authorship_tag": "ABX9TyO0R4XfWs6TpgUwYvozDxPh",
      "include_colab_link": true
    },
    "kernelspec": {
      "name": "python3",
      "display_name": "Python 3"
    },
    "language_info": {
      "name": "python"
    },
    "accelerator": "TPU"
  },
  "cells": [
    {
      "cell_type": "markdown",
      "metadata": {
        "id": "view-in-github",
        "colab_type": "text"
      },
      "source": [
        "<a href=\"https://colab.research.google.com/github/melekbairamova20/Basic-Phyton/blob/main/Functions.ipynb\" target=\"_parent\"><img src=\"https://colab.research.google.com/assets/colab-badge.svg\" alt=\"Open In Colab\"/></a>"
      ]
    },
    {
      "cell_type": "code",
      "execution_count": 2,
      "metadata": {
        "colab": {
          "base_uri": "https://localhost:8080/"
        },
        "id": "Hk6sMOYtEt8C",
        "outputId": "88498b8a-1d01-4b9d-c21b-1da4115bc971"
      },
      "outputs": [
        {
          "output_type": "execute_result",
          "data": {
            "text/plain": [
              "list"
            ]
          },
          "metadata": {},
          "execution_count": 2
        }
      ],
      "source": [
        "a = [1, 2, 3, 4, 5]\n",
        "type(a)"
      ]
    },
    {
      "cell_type": "code",
      "source": [
        "a.insert(1,'M')\n",
        "a"
      ],
      "metadata": {
        "colab": {
          "base_uri": "https://localhost:8080/"
        },
        "id": "T0lX5H06E5B_",
        "outputId": "6f1b6ef2-931b-4a69-e7b6-8de4de3bd5d9"
      },
      "execution_count": 3,
      "outputs": [
        {
          "output_type": "execute_result",
          "data": {
            "text/plain": [
              "[1, 'M', 2, 3, 4, 5]"
            ]
          },
          "metadata": {},
          "execution_count": 3
        }
      ]
    },
    {
      "cell_type": "code",
      "source": [
        "a.append(\"Melek\")  # sona elave edir\n",
        "a"
      ],
      "metadata": {
        "colab": {
          "base_uri": "https://localhost:8080/"
        },
        "id": "5eW73JuMFEXV",
        "outputId": "8a5ddb6d-f044-4398-aa18-fbb1e8d9e339"
      },
      "execution_count": 4,
      "outputs": [
        {
          "output_type": "execute_result",
          "data": {
            "text/plain": [
              "[1, 'M', 2, 3, 4, 5, 'Melek']"
            ]
          },
          "metadata": {},
          "execution_count": 4
        }
      ]
    },
    {
      "cell_type": "code",
      "source": [
        "a.pop() # sonuncunu silir.\n",
        "a"
      ],
      "metadata": {
        "colab": {
          "base_uri": "https://localhost:8080/"
        },
        "id": "vbSN0H-TFROc",
        "outputId": "64c0002b-f638-4dd9-bf2d-624db8c932c1"
      },
      "execution_count": 5,
      "outputs": [
        {
          "output_type": "execute_result",
          "data": {
            "text/plain": [
              "[1, 'M', 2, 3, 4, 5]"
            ]
          },
          "metadata": {},
          "execution_count": 5
        }
      ]
    },
    {
      "cell_type": "code",
      "source": [
        "help(a.append)"
      ],
      "metadata": {
        "colab": {
          "base_uri": "https://localhost:8080/"
        },
        "id": "Rlo4q5O2FX7Z",
        "outputId": "0f481d18-def1-4cee-a9d9-4e0342011843"
      },
      "execution_count": 6,
      "outputs": [
        {
          "output_type": "stream",
          "name": "stdout",
          "text": [
            "Help on built-in function append:\n",
            "\n",
            "append(object, /) method of builtins.list instance\n",
            "    Append object to the end of the list.\n",
            "\n"
          ]
        }
      ]
    },
    {
      "cell_type": "code",
      "source": [
        "help(a.insert)"
      ],
      "metadata": {
        "colab": {
          "base_uri": "https://localhost:8080/"
        },
        "id": "A4dfIfETFkxF",
        "outputId": "c29ac50c-fd2b-4d6d-ead8-3b2a1790addf"
      },
      "execution_count": 7,
      "outputs": [
        {
          "output_type": "stream",
          "name": "stdout",
          "text": [
            "Help on built-in function insert:\n",
            "\n",
            "insert(index, object, /) method of builtins.list instance\n",
            "    Insert object before index.\n",
            "\n"
          ]
        }
      ]
    },
    {
      "cell_type": "code",
      "source": [
        "def hello() :\n",
        "  print(\"Hello\")\n",
        "  print(\"How are you ?\")\n",
        "\n"
      ],
      "metadata": {
        "id": "H0TcSv_KF3Zb"
      },
      "execution_count": 8,
      "outputs": []
    },
    {
      "cell_type": "code",
      "source": [
        "type(hello)"
      ],
      "metadata": {
        "colab": {
          "base_uri": "https://localhost:8080/"
        },
        "id": "Z8wzCxVAHJuf",
        "outputId": "ab0e8097-e56e-46a2-d89e-8d4b4770a27e"
      },
      "execution_count": 9,
      "outputs": [
        {
          "output_type": "execute_result",
          "data": {
            "text/plain": [
              "function"
            ]
          },
          "metadata": {},
          "execution_count": 9
        }
      ]
    },
    {
      "cell_type": "code",
      "source": [
        "hello()  # funksiyani chagirmaq"
      ],
      "metadata": {
        "colab": {
          "base_uri": "https://localhost:8080/"
        },
        "id": "i0-Km1xbHLgz",
        "outputId": "9f5448af-cdd5-4216-c330-30015159a736"
      },
      "execution_count": 10,
      "outputs": [
        {
          "output_type": "stream",
          "name": "stdout",
          "text": [
            "Hello\n",
            "How are you ?\n"
          ]
        }
      ]
    },
    {
      "cell_type": "code",
      "source": [
        "hello()\n",
        "hello()\n",
        "hello()"
      ],
      "metadata": {
        "colab": {
          "base_uri": "https://localhost:8080/"
        },
        "id": "wh5yQ3chHN3q",
        "outputId": "dc5663cf-fbe5-4b49-97ab-4cc6407f6600"
      },
      "execution_count": 11,
      "outputs": [
        {
          "output_type": "stream",
          "name": "stdout",
          "text": [
            "Hello\n",
            "How are you ?\n",
            "Hello\n",
            "How are you ?\n",
            "Hello\n",
            "How are you ?\n"
          ]
        }
      ]
    },
    {
      "cell_type": "code",
      "source": [
        "def hello(name):\n",
        "  print(\"Name:\", name)"
      ],
      "metadata": {
        "id": "lpaxv599HoYK"
      },
      "execution_count": 12,
      "outputs": []
    },
    {
      "cell_type": "code",
      "source": [
        "hello(\"Melek\")"
      ],
      "metadata": {
        "colab": {
          "base_uri": "https://localhost:8080/"
        },
        "id": "yy3lE7UDH4UW",
        "outputId": "3904fa40-9c5b-48a6-f0d1-57a93c0a8c2f"
      },
      "execution_count": 13,
      "outputs": [
        {
          "output_type": "stream",
          "name": "stdout",
          "text": [
            "Name: Melek\n"
          ]
        }
      ]
    },
    {
      "cell_type": "code",
      "source": [
        "def sum(a,b,c):\n",
        "  print(\"Sum:\", a + b + c)"
      ],
      "metadata": {
        "id": "U_yE7D23H6Ou"
      },
      "execution_count": 14,
      "outputs": []
    },
    {
      "cell_type": "code",
      "source": [
        "sum(1, 2, 3)"
      ],
      "metadata": {
        "colab": {
          "base_uri": "https://localhost:8080/"
        },
        "id": "V3Qes3FRITr5",
        "outputId": "785bf2c2-d5a2-46f6-db1e-b9df49beeb8a"
      },
      "execution_count": 15,
      "outputs": [
        {
          "output_type": "stream",
          "name": "stdout",
          "text": [
            "Sum: 6\n"
          ]
        }
      ]
    },
    {
      "cell_type": "code",
      "source": [
        "def division(a, b):\n",
        "  print(\"Division:\", a / b)"
      ],
      "metadata": {
        "id": "PP1N85a1IV8l"
      },
      "execution_count": 16,
      "outputs": []
    },
    {
      "cell_type": "code",
      "source": [
        "division(3,6)"
      ],
      "metadata": {
        "colab": {
          "base_uri": "https://localhost:8080/"
        },
        "id": "7oZv6jjkImcL",
        "outputId": "3f168a35-6774-4a7c-c1f7-63031af481e9"
      },
      "execution_count": 17,
      "outputs": [
        {
          "output_type": "stream",
          "name": "stdout",
          "text": [
            "Division: 0.5\n"
          ]
        }
      ]
    },
    {
      "cell_type": "code",
      "source": [
        "def factorial(num):\n",
        "  fact = 1\n",
        "  if (num == 0 or num == 1):\n",
        "    print(\"Factorial:\", fact)\n",
        "  else :\n",
        "    while (num >= 1):\n",
        "      fact *= num\n",
        "      num -= 1\n",
        "    print(fact)\n",
        "\n"
      ],
      "metadata": {
        "id": "UqUFwEblIoDj"
      },
      "execution_count": 18,
      "outputs": []
    },
    {
      "cell_type": "code",
      "source": [
        "factorial(5)"
      ],
      "metadata": {
        "colab": {
          "base_uri": "https://localhost:8080/"
        },
        "id": "i56CijlUJS1l",
        "outputId": "acb789e4-58d5-4352-a324-a9fed563643d"
      },
      "execution_count": 19,
      "outputs": [
        {
          "output_type": "stream",
          "name": "stdout",
          "text": [
            "120\n"
          ]
        }
      ]
    },
    {
      "cell_type": "markdown",
      "source": [
        "# Return"
      ],
      "metadata": {
        "id": "wMV3HQPPJUQp"
      }
    },
    {
      "cell_type": "code",
      "source": [
        "def sub(a,b,c):\n",
        "  print(\"Submission:\", a - b - c)"
      ],
      "metadata": {
        "id": "iM-xmjx-KwGF"
      },
      "execution_count": 20,
      "outputs": []
    },
    {
      "cell_type": "code",
      "source": [
        "sub(45, 34, 12)"
      ],
      "metadata": {
        "colab": {
          "base_uri": "https://localhost:8080/"
        },
        "id": "d-kN98Z1LXCl",
        "outputId": "973ad12f-58b0-4650-f2ff-2dac0b329653"
      },
      "execution_count": 21,
      "outputs": [
        {
          "output_type": "stream",
          "name": "stdout",
          "text": [
            "Submission: -1\n"
          ]
        }
      ]
    },
    {
      "cell_type": "code",
      "source": [
        "def ikiyevurma(a):\n",
        "  print(\"a * 2:\", a * 2)\n"
      ],
      "metadata": {
        "id": "KUICh9ddLZwh"
      },
      "execution_count": 22,
      "outputs": []
    },
    {
      "cell_type": "code",
      "source": [
        "ikiyevurma(5)"
      ],
      "metadata": {
        "colab": {
          "base_uri": "https://localhost:8080/"
        },
        "id": "9uo643ZGLs30",
        "outputId": "ae1ef996-15b7-4736-d1c5-8251558d44e2"
      },
      "execution_count": 23,
      "outputs": [
        {
          "output_type": "stream",
          "name": "stdout",
          "text": [
            "a * 2: 10\n"
          ]
        }
      ]
    },
    {
      "cell_type": "code",
      "source": [
        "def sum(a, b, c):\n",
        "  return a + b + c\n",
        "def ikiyevur(a):\n",
        "  return a * 2"
      ],
      "metadata": {
        "id": "oRUwHeG_MG8c"
      },
      "execution_count": 24,
      "outputs": []
    },
    {
      "cell_type": "code",
      "source": [
        "sum(1, 2, 3)"
      ],
      "metadata": {
        "colab": {
          "base_uri": "https://localhost:8080/"
        },
        "id": "JFzxfLQXMX5S",
        "outputId": "51ed2bc3-c8d2-4fb3-8bef-ef384274d96c"
      },
      "execution_count": 25,
      "outputs": [
        {
          "output_type": "execute_result",
          "data": {
            "text/plain": [
              "6"
            ]
          },
          "metadata": {},
          "execution_count": 25
        }
      ]
    },
    {
      "cell_type": "code",
      "source": [
        "ikiyevur(5)"
      ],
      "metadata": {
        "colab": {
          "base_uri": "https://localhost:8080/"
        },
        "id": "6x2bRCpGMZTZ",
        "outputId": "f01d19ac-28f2-4849-f64d-2638a8f6683d"
      },
      "execution_count": 26,
      "outputs": [
        {
          "output_type": "execute_result",
          "data": {
            "text/plain": [
              "10"
            ]
          },
          "metadata": {},
          "execution_count": 26
        }
      ]
    },
    {
      "cell_type": "code",
      "source": [
        "summition = sum(3, 4, 5)\n",
        "print(ikiyevur(summition))\n"
      ],
      "metadata": {
        "colab": {
          "base_uri": "https://localhost:8080/"
        },
        "id": "17fnDYGGMpCx",
        "outputId": "d56061ce-7c3e-4587-b621-38c996044c17"
      },
      "execution_count": 27,
      "outputs": [
        {
          "output_type": "stream",
          "name": "stdout",
          "text": [
            "24\n"
          ]
        }
      ]
    },
    {
      "cell_type": "code",
      "source": [
        "def ikiyletopla(a):\n",
        "  return a + 2"
      ],
      "metadata": {
        "id": "h2w9PrPfM7ie"
      },
      "execution_count": 28,
      "outputs": []
    },
    {
      "cell_type": "code",
      "source": [
        "plustwo = sum (1, 2, 3)\n",
        "print(ikiyletopla(plustwo))"
      ],
      "metadata": {
        "colab": {
          "base_uri": "https://localhost:8080/"
        },
        "id": "5xGmwuJqPWQu",
        "outputId": "95b0f152-c063-40ec-d2cf-39a713076b42"
      },
      "execution_count": 29,
      "outputs": [
        {
          "output_type": "stream",
          "name": "stdout",
          "text": [
            "8\n"
          ]
        }
      ]
    },
    {
      "cell_type": "code",
      "source": [
        "def dordebol(a):\n",
        "  return a / 4"
      ],
      "metadata": {
        "id": "fwM64XOSPp3H"
      },
      "execution_count": 30,
      "outputs": []
    },
    {
      "cell_type": "code",
      "source": [
        "divisionfour = sum(2, 4, 4)\n",
        "print(dordebol(divisionfour))"
      ],
      "metadata": {
        "colab": {
          "base_uri": "https://localhost:8080/"
        },
        "id": "H4DbiXBwPiNh",
        "outputId": "273c3eff-3c65-4091-8595-4422e42338f8"
      },
      "execution_count": 31,
      "outputs": [
        {
          "output_type": "stream",
          "name": "stdout",
          "text": [
            "2.5\n"
          ]
        }
      ]
    },
    {
      "cell_type": "code",
      "source": [
        "def uchevur(a):\n",
        "  return a * 3"
      ],
      "metadata": {
        "id": "kBb3G4Q_P38w"
      },
      "execution_count": 32,
      "outputs": []
    },
    {
      "cell_type": "code",
      "source": [
        "multiplethree = sum(2, 3, 4)\n",
        "print(uchevur(multiplethree))"
      ],
      "metadata": {
        "colab": {
          "base_uri": "https://localhost:8080/"
        },
        "id": "g_kdq-HfQAl5",
        "outputId": "f108e703-3597-489f-8a15-f242cfd94375"
      },
      "execution_count": 33,
      "outputs": [
        {
          "output_type": "stream",
          "name": "stdout",
          "text": [
            "27\n"
          ]
        }
      ]
    },
    {
      "cell_type": "code",
      "source": [
        "def hello(name = 'without name'):\n",
        "  print(\"Name:\", name)"
      ],
      "metadata": {
        "id": "eRO5PfntQLXK"
      },
      "execution_count": 34,
      "outputs": []
    },
    {
      "cell_type": "code",
      "source": [
        "hello()"
      ],
      "metadata": {
        "colab": {
          "base_uri": "https://localhost:8080/"
        },
        "id": "ZDxr3XSWaVCi",
        "outputId": "984fc048-6873-4e06-bb0d-0e36bc9acc41"
      },
      "execution_count": 35,
      "outputs": [
        {
          "output_type": "stream",
          "name": "stdout",
          "text": [
            "Name: without name\n"
          ]
        }
      ]
    },
    {
      "cell_type": "code",
      "source": [
        "hello(\"Melek\")"
      ],
      "metadata": {
        "colab": {
          "base_uri": "https://localhost:8080/"
        },
        "id": "d860uTXbaWRz",
        "outputId": "d7d51132-2aab-430f-f01c-60876d3fbce3"
      },
      "execution_count": 36,
      "outputs": [
        {
          "output_type": "stream",
          "name": "stdout",
          "text": [
            "Name: Melek\n"
          ]
        }
      ]
    },
    {
      "cell_type": "code",
      "source": [
        "def InformationAboutYou(name, last_name, phone):\n",
        "  print(\"Name:\", name, \"Last name:\", last_name, \"phone:\", phone)"
      ],
      "metadata": {
        "id": "gCulQRNZazjt"
      },
      "execution_count": 37,
      "outputs": []
    },
    {
      "cell_type": "code",
      "source": [
        "InformationAboutYou(\"Melek\", \"Bayramova\", \"12345\")"
      ],
      "metadata": {
        "colab": {
          "base_uri": "https://localhost:8080/"
        },
        "id": "RQT3zjCHbO1s",
        "outputId": "2619a05d-2d47-466e-be1b-52dd1a602fae"
      },
      "execution_count": 38,
      "outputs": [
        {
          "output_type": "stream",
          "name": "stdout",
          "text": [
            "Name: Melek Last name: Bayramova phone: 12345\n"
          ]
        }
      ]
    },
    {
      "cell_type": "code",
      "source": [
        "print(\"M\", \"G\", \"U\", sep = \"/\")"
      ],
      "metadata": {
        "colab": {
          "base_uri": "https://localhost:8080/"
        },
        "id": "CY-RYMZ3bWNN",
        "outputId": "6204aea2-0e00-4ee0-b28b-56091a0900f3"
      },
      "execution_count": 39,
      "outputs": [
        {
          "output_type": "stream",
          "name": "stdout",
          "text": [
            "M/G/U\n"
          ]
        }
      ]
    },
    {
      "cell_type": "code",
      "source": [
        "help(print)"
      ],
      "metadata": {
        "colab": {
          "base_uri": "https://localhost:8080/"
        },
        "id": "GbpmXu-qcxjh",
        "outputId": "f9475a29-1a51-4dc5-f133-764727526892"
      },
      "execution_count": 40,
      "outputs": [
        {
          "output_type": "stream",
          "name": "stdout",
          "text": [
            "Help on built-in function print in module builtins:\n",
            "\n",
            "print(...)\n",
            "    print(value, ..., sep=' ', end='\\n', file=sys.stdout, flush=False)\n",
            "    \n",
            "    Prints the values to a stream, or to sys.stdout by default.\n",
            "    Optional keyword arguments:\n",
            "    file:  a file-like object (stream); defaults to the current sys.stdout.\n",
            "    sep:   string inserted between values, default a space.\n",
            "    end:   string appended after the last value, default a newline.\n",
            "    flush: whether to forcibly flush the stream.\n",
            "\n"
          ]
        }
      ]
    },
    {
      "cell_type": "code",
      "source": [
        "def sum(*a):\n",
        "  num = 0\n",
        "  for i in a:\n",
        "    num += i\n",
        "  print(num)\n",
        "\n"
      ],
      "metadata": {
        "id": "O2L5gjLkswOe"
      },
      "execution_count": 45,
      "outputs": []
    },
    {
      "cell_type": "code",
      "source": [
        "sum(1,2,3,4)"
      ],
      "metadata": {
        "colab": {
          "base_uri": "https://localhost:8080/"
        },
        "id": "4fx4cDUOtiC6",
        "outputId": "734c6664-16ad-4496-fa55-ceb0146afb55"
      },
      "execution_count": 46,
      "outputs": [
        {
          "output_type": "stream",
          "name": "stdout",
          "text": [
            "10\n"
          ]
        }
      ]
    },
    {
      "cell_type": "markdown",
      "source": [
        "# global and local variables\n"
      ],
      "metadata": {
        "id": "EHh_a2Y6tjqD"
      }
    },
    {
      "cell_type": "code",
      "source": [
        "def function():\n",
        "  print(a)"
      ],
      "metadata": {
        "id": "S2A8GFFmuaUl"
      },
      "execution_count": 47,
      "outputs": []
    },
    {
      "cell_type": "code",
      "source": [
        "# function()"
      ],
      "metadata": {
        "id": "PpLMnbF_um4p"
      },
      "execution_count": 50,
      "outputs": []
    },
    {
      "cell_type": "code",
      "source": [
        "b = 5\n",
        "def function():\n",
        "  print(b)\n",
        "function()"
      ],
      "metadata": {
        "colab": {
          "base_uri": "https://localhost:8080/"
        },
        "id": "3-1K4UnzupwS",
        "outputId": "d608ec39-c5a3-4a22-dd9e-df7b549e6a9a"
      },
      "execution_count": 51,
      "outputs": [
        {
          "output_type": "stream",
          "name": "stdout",
          "text": [
            "5\n"
          ]
        }
      ]
    },
    {
      "cell_type": "code",
      "source": [
        "c = 10\n",
        "def function():\n",
        "  c = 2\n",
        "  print(c)\n",
        "function()\n",
        "print(c)"
      ],
      "metadata": {
        "colab": {
          "base_uri": "https://localhost:8080/"
        },
        "id": "jKKS4AXnu6tS",
        "outputId": "6f61c9a0-391a-4ea6-c5f9-27f875dcfcce"
      },
      "execution_count": 52,
      "outputs": [
        {
          "output_type": "stream",
          "name": "stdout",
          "text": [
            "2\n",
            "10\n"
          ]
        }
      ]
    },
    {
      "cell_type": "code",
      "source": [
        "d = 5\n",
        "def function():\n",
        "  global d\n",
        "  d = 3\n",
        "  print(d)\n",
        "function()\n",
        "print(d)"
      ],
      "metadata": {
        "colab": {
          "base_uri": "https://localhost:8080/"
        },
        "id": "JAejLxFqvcfg",
        "outputId": "a1774c45-cd10-4be3-e29b-947ece7c734a"
      },
      "execution_count": 53,
      "outputs": [
        {
          "output_type": "stream",
          "name": "stdout",
          "text": [
            "3\n",
            "3\n"
          ]
        }
      ]
    },
    {
      "cell_type": "code",
      "source": [
        "if True:\n",
        "  c = 4\n",
        "  print(c)\n",
        "print(c)"
      ],
      "metadata": {
        "colab": {
          "base_uri": "https://localhost:8080/"
        },
        "id": "0GFLIvecvyY9",
        "outputId": "dec349a2-e158-4415-9fda-90c306dd6b9a"
      },
      "execution_count": 55,
      "outputs": [
        {
          "output_type": "stream",
          "name": "stdout",
          "text": [
            "4\n",
            "4\n"
          ]
        }
      ]
    },
    {
      "cell_type": "markdown",
      "source": [
        "# Lambda Expressions"
      ],
      "metadata": {
        "id": "ONLomUKPwI6V"
      }
    },
    {
      "cell_type": "code",
      "source": [
        "arr1 = [1, 3, 5, 7]\n",
        "arr2 = [i * 2 for i in arr1]\n",
        "arr2"
      ],
      "metadata": {
        "colab": {
          "base_uri": "https://localhost:8080/"
        },
        "id": "0_gEcfn_wkJQ",
        "outputId": "a5b215de-6fe6-4c1d-d7a8-288befc2a1b9"
      },
      "execution_count": 57,
      "outputs": [
        {
          "output_type": "execute_result",
          "data": {
            "text/plain": [
              "[2, 6, 10, 14]"
            ]
          },
          "metadata": {},
          "execution_count": 57
        }
      ]
    },
    {
      "cell_type": "markdown",
      "source": [
        "A lambda function is a small anonymous function."
      ],
      "metadata": {
        "id": "wcdgWQVIxALU"
      }
    },
    {
      "cell_type": "markdown",
      "source": [
        "lambda arguments : expression"
      ],
      "metadata": {
        "id": "jJVhVCxGxDa0"
      }
    },
    {
      "cell_type": "code",
      "source": [
        "def ikiyevur(x):\n",
        "  return x * 2\n",
        "ikiyevur(5)"
      ],
      "metadata": {
        "colab": {
          "base_uri": "https://localhost:8080/"
        },
        "id": "2lIyClM5wwns",
        "outputId": "54c63ad4-8fcd-45bf-8c00-ae283f622f03"
      },
      "execution_count": 58,
      "outputs": [
        {
          "output_type": "execute_result",
          "data": {
            "text/plain": [
              "10"
            ]
          },
          "metadata": {},
          "execution_count": 58
        }
      ]
    },
    {
      "cell_type": "code",
      "source": [
        "ikiylevur = lambda x : x * 2\n",
        "print(ikiylevur(6))"
      ],
      "metadata": {
        "colab": {
          "base_uri": "https://localhost:8080/"
        },
        "id": "zKh5LmrOxVoq",
        "outputId": "43960df6-3295-44e1-a0b3-04a2053c52af"
      },
      "execution_count": 76,
      "outputs": [
        {
          "output_type": "stream",
          "name": "stdout",
          "text": [
            "12\n"
          ]
        }
      ]
    },
    {
      "cell_type": "code",
      "source": [
        "def sum(a, b, c):\n",
        "  return a + b + c\n",
        "print(sum(1,2,3))"
      ],
      "metadata": {
        "colab": {
          "base_uri": "https://localhost:8080/"
        },
        "id": "QwLcZ9VtxkWz",
        "outputId": "d8f2e2f1-d77a-44c2-8cde-1e04768f2f81"
      },
      "execution_count": 62,
      "outputs": [
        {
          "output_type": "stream",
          "name": "stdout",
          "text": [
            "6\n"
          ]
        }
      ]
    },
    {
      "cell_type": "code",
      "source": [
        "sum = lambda x, y, z: x + y + z\n",
        "print(sum(4, 6, 7 ))"
      ],
      "metadata": {
        "colab": {
          "base_uri": "https://localhost:8080/"
        },
        "id": "rJbtBRm1xvBp",
        "outputId": "1b315ecd-b3ba-4f85-8c38-90810c437e33"
      },
      "execution_count": 75,
      "outputs": [
        {
          "output_type": "stream",
          "name": "stdout",
          "text": [
            "17\n"
          ]
        }
      ]
    },
    {
      "cell_type": "code",
      "source": [
        "def terscevir(c):\n",
        "  return c[::-1]\n",
        "print(terscevir(\"Phyton\"))"
      ],
      "metadata": {
        "colab": {
          "base_uri": "https://localhost:8080/"
        },
        "id": "S53WZRLgx5EB",
        "outputId": "12f5c145-e91f-4cdd-bf2e-1593390a299a"
      },
      "execution_count": 69,
      "outputs": [
        {
          "output_type": "stream",
          "name": "stdout",
          "text": [
            "notyhP\n"
          ]
        }
      ]
    },
    {
      "cell_type": "code",
      "source": [
        "terschevir = lambda c: c[::-1]\n",
        "print(terschevir(\"phyton\"))"
      ],
      "metadata": {
        "colab": {
          "base_uri": "https://localhost:8080/"
        },
        "id": "X8RwSTJlyIQM",
        "outputId": "dcd07e0b-d46b-4b32-bab2-ef279f0acfcb"
      },
      "execution_count": 74,
      "outputs": [
        {
          "output_type": "stream",
          "name": "stdout",
          "text": [
            "notyhp\n"
          ]
        }
      ]
    },
    {
      "cell_type": "code",
      "source": [
        "def evennumber(num):\n",
        "  return num % 2 == 0\n",
        "print(evennumber(25))"
      ],
      "metadata": {
        "colab": {
          "base_uri": "https://localhost:8080/"
        },
        "id": "4vbVO2n6yeLP",
        "outputId": "a4f0bdcd-2a10-42d5-bad8-a0ec20a6229a"
      },
      "execution_count": 78,
      "outputs": [
        {
          "output_type": "stream",
          "name": "stdout",
          "text": [
            "False\n"
          ]
        }
      ]
    },
    {
      "cell_type": "code",
      "source": [
        "evenNumber = lambda num: num % 2 ==0\n",
        "print(evenNumber(8))"
      ],
      "metadata": {
        "colab": {
          "base_uri": "https://localhost:8080/"
        },
        "id": "QWXV6bU2y7tm",
        "outputId": "4bba9e72-9dc0-4012-c634-d433bf20663c"
      },
      "execution_count": 82,
      "outputs": [
        {
          "output_type": "stream",
          "name": "stdout",
          "text": [
            "True\n"
          ]
        }
      ]
    },
    {
      "cell_type": "markdown",
      "source": [
        "# Single number"
      ],
      "metadata": {
        "id": "InvxEEt-zF3r"
      }
    },
    {
      "cell_type": "code",
      "source": [
        "def isSingle(num):\n",
        "  if (num == 1):\n",
        "    return False\n",
        "  elif (num == 2):\n",
        "    return True\n",
        "  else:\n",
        "    for i in range(2, num):\n",
        "      if (num % i == 0):\n",
        "        return False\n",
        "    return True\n",
        "while True:\n",
        "  num = input(\"number:\")\n",
        "  if (num == 'q'):\n",
        "    break\n",
        "  else :\n",
        "    num = int(num)\n",
        "\n",
        "    if (isSingle(num)):\n",
        "      print(num, \"This is a single number.\")\n",
        "    else :\n",
        "      print(num, \"This is not a single number\")"
      ],
      "metadata": {
        "colab": {
          "base_uri": "https://localhost:8080/"
        },
        "id": "dIjFF1eUze25",
        "outputId": "b1271861-3bc9-498a-f7fd-fed04a2ca1ff"
      },
      "execution_count": 89,
      "outputs": [
        {
          "name": "stdout",
          "output_type": "stream",
          "text": [
            "number:6\n",
            "6 This is not a single number\n",
            "number:3\n",
            "3 This is a single number.\n",
            "number:q\n"
          ]
        }
      ]
    },
    {
      "cell_type": "code",
      "source": [
        "isSingle(7)"
      ],
      "metadata": {
        "colab": {
          "base_uri": "https://localhost:8080/"
        },
        "id": "eZZUzJLF0KNV",
        "outputId": "843b8206-21e1-49a6-ceb2-fb83c63e0dab"
      },
      "execution_count": 91,
      "outputs": [
        {
          "output_type": "execute_result",
          "data": {
            "text/plain": [
              "True"
            ]
          },
          "metadata": {},
          "execution_count": 91
        }
      ]
    },
    {
      "cell_type": "markdown",
      "source": [
        "# Tam Bolenleri tapmaq"
      ],
      "metadata": {
        "id": "H6xfMWXy0Qmr"
      }
    },
    {
      "cell_type": "code",
      "source": [
        "def tambolenleri(num):\n",
        "  tambolenler = []\n",
        "\n",
        "  for i in range(2, num):\n",
        "    if (num % i == 0):\n",
        "      tambolenler.append(i)\n",
        "  return tambolenler\n",
        "tambolenleri(56)"
      ],
      "metadata": {
        "colab": {
          "base_uri": "https://localhost:8080/"
        },
        "id": "bJalrZnm1fLd",
        "outputId": "e1ee1f92-8a7d-4a2a-fcf5-a9d902c28c7c"
      },
      "execution_count": 96,
      "outputs": [
        {
          "output_type": "execute_result",
          "data": {
            "text/plain": [
              "[2, 4, 7, 8, 14, 28]"
            ]
          },
          "metadata": {},
          "execution_count": 96
        }
      ]
    },
    {
      "cell_type": "code",
      "source": [],
      "metadata": {
        "id": "ykkoDlSl1y1N"
      },
      "execution_count": null,
      "outputs": []
    }
  ]
}