{
  "nbformat": 4,
  "nbformat_minor": 0,
  "metadata": {
    "colab": {
      "provenance": [],
      "authorship_tag": "ABX9TyN9e6luRJmJZULeOKlHjUG2",
      "include_colab_link": true
    },
    "kernelspec": {
      "name": "python3",
      "display_name": "Python 3"
    },
    "language_info": {
      "name": "python"
    }
  },
  "cells": [
    {
      "cell_type": "markdown",
      "metadata": {
        "id": "view-in-github",
        "colab_type": "text"
      },
      "source": [
        "<a href=\"https://colab.research.google.com/github/melekbairamova20/Basic-Phyton/blob/main/Factorial.ipynb\" target=\"_parent\"><img src=\"https://colab.research.google.com/assets/colab-badge.svg\" alt=\"Open In Colab\"/></a>"
      ]
    },
    {
      "cell_type": "code",
      "execution_count": 1,
      "metadata": {
        "colab": {
          "base_uri": "https://localhost:8080/"
        },
        "id": "KRpSKhZYKgRF",
        "outputId": "64a7aea8-a0f0-47e9-99f2-faa4cea994c3"
      },
      "outputs": [
        {
          "output_type": "stream",
          "name": "stdout",
          "text": [
            "*****************\n",
            "\n",
            "Factorial hesablamaq\n",
            "\n",
            "q'ya basdiginda chixish etsin\n",
            "\n",
            "*****************\n",
            "\n",
            "number:5\n",
            "factorial: 120\n"
          ]
        }
      ],
      "source": [
        "print(\"\"\"*****************\n",
        "\n",
        "Factorial hesablamaq\n",
        "\n",
        "q'ya basdiginda chixish etsin\n",
        "\n",
        "*****************\n",
        "\"\"\")\n",
        "\n",
        "while True:\n",
        "    num = input(\"number:\")\n",
        "    if (num == 'q'):\n",
        "        print(\"Exit the program\")\n",
        "    else :\n",
        "        num = int(num)\n",
        "        fact = 1\n",
        "\n",
        "        for i in range(1, num+1):\n",
        "            fact *= i\n",
        "        print('factorial:', fact)\n",
        "        break\n",
        ""
      ]
    },
    {
      "cell_type": "code",
      "source": [],
      "metadata": {
        "id": "OEghtkAmKjM8"
      },
      "execution_count": null,
      "outputs": []
    }
  ]
}