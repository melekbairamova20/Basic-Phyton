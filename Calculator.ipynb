{
  "nbformat": 4,
  "nbformat_minor": 0,
  "metadata": {
    "colab": {
      "provenance": [],
      "authorship_tag": "ABX9TyN2aGicKhoLZbOBH8MQqSsE",
      "include_colab_link": true
    },
    "kernelspec": {
      "name": "python3",
      "display_name": "Python 3"
    },
    "language_info": {
      "name": "python"
    }
  },
  "cells": [
    {
      "cell_type": "markdown",
      "metadata": {
        "id": "view-in-github",
        "colab_type": "text"
      },
      "source": [
        "<a href=\"https://colab.research.google.com/github/melekbairamova20/Basic-Phyton/blob/main/Calculator.ipynb\" target=\"_parent\"><img src=\"https://colab.research.google.com/assets/colab-badge.svg\" alt=\"Open In Colab\"/></a>"
      ]
    },
    {
      "cell_type": "code",
      "execution_count": 3,
      "metadata": {
        "colab": {
          "base_uri": "https://localhost:8080/"
        },
        "id": "2uhEUhZsL0Yj",
        "outputId": "a8e53be6-5bec-4ce2-ad80-cbed6f2c2755"
      },
      "outputs": [
        {
          "output_type": "stream",
          "name": "stdout",
          "text": [
            "\n",
            "************\n",
            "1.Addition\n",
            "2.Subtraction\n",
            "3.Multiplication\n",
            "4.Division\n",
            "************\n",
            "\n",
            "Enter the first number:5\n",
            "Enter the second number:4\n",
            "islemi giriniz:3\n",
            "5 ile 4 in vurulmasi 20 dir\n"
          ]
        }
      ],
      "source": [
        "print(\"\"\"\n",
        "************\n",
        "1.Addition\n",
        "2.Subtraction\n",
        "3.Multiplication\n",
        "4.Division\n",
        "************\n",
        "\"\"\")\n",
        "\n",
        "a = int(input(\"Enter the first number:\"))\n",
        "b = int(input(\"Enter the second number:\"))\n",
        "\n",
        "islem = input(\"islemi giriniz:\")\n",
        "\n",
        "if(islem == \"1\"):\n",
        "    print(\"{} ile {} in toplamasi {} dir \" .format(a,b,a+b) )\n",
        "elif(islem == \"2\"):\n",
        "    print(\"{} ile {} in cixilmasi {} dir\" .format(a,b,a-b))\n",
        "elif(islem == \"3\"):\n",
        "    print(\"{} ile {} in vurulmasi {} dir\" .format(a,b,a*b))\n",
        "elif(islem == \"4\"):\n",
        "    print(\"{} ile {} in islemi {} dir\" .format(a,b, a/b))\n",
        "else:\n",
        "    print(\"This is not true\")"
      ]
    },
    {
      "cell_type": "code",
      "source": [],
      "metadata": {
        "id": "vjpS7KLzL3Pa"
      },
      "execution_count": null,
      "outputs": []
    }
  ]
}