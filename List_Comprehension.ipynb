{
  "nbformat": 4,
  "nbformat_minor": 0,
  "metadata": {
    "colab": {
      "provenance": [],
      "authorship_tag": "ABX9TyMmgSW4PyNe27U7xcHu7I7u",
      "include_colab_link": true
    },
    "kernelspec": {
      "name": "python3",
      "display_name": "Python 3"
    },
    "language_info": {
      "name": "python"
    }
  },
  "cells": [
    {
      "cell_type": "markdown",
      "metadata": {
        "id": "view-in-github",
        "colab_type": "text"
      },
      "source": [
        "<a href=\"https://colab.research.google.com/github/melekbairamova20/Basic-Phyton/blob/main/List_Comprehension.ipynb\" target=\"_parent\"><img src=\"https://colab.research.google.com/assets/colab-badge.svg\" alt=\"Open In Colab\"/></a>"
      ]
    },
    {
      "cell_type": "code",
      "execution_count": 3,
      "metadata": {
        "colab": {
          "base_uri": "https://localhost:8080/"
        },
        "id": "KRpSKhZYKgRF",
        "outputId": "7e55e0a0-e69b-4bd4-e85e-13f5f9b22444"
      },
      "outputs": [
        {
          "output_type": "stream",
          "name": "stdout",
          "text": [
            "[1, 2, 3, 4, 5]\n",
            "[1, 2, 3, 4, 5]\n",
            "[46, 90, 14, 6]\n",
            "[(1, 2), (3, 4), (5, 6)]\n"
          ]
        }
      ],
      "source": [
        "# Bu uzun metoddur.\n",
        "arr1 = [1,2,3,4,5]\n",
        "arr2 = list()\n",
        "for i in arr1:\n",
        "    arr2.append(i) # reqemleri elave edir.\n",
        "print(arr2)\n",
        "\n",
        "# Bu qisa metod olan list comprehensiondur.\n",
        "arr3 = [1,2,3,4,5]\n",
        "arr4 = [i for i in arr3]\n",
        "print(arr4)\n",
        "\n",
        "# Liste 1-de olan reqemleri bu usul ile 2-ye vurmagi yoxlayaq.\n",
        "arr1 = [23,45,7,3]\n",
        "arr2 = [i * 2 for i in arr1]\n",
        "print(arr2)\n",
        "\n",
        "arr1 = [(1,2), (3,4), (5,6)]\n",
        "arr2 = [(i,j) for i,j in arr1]\n",
        "print(arr2)"
      ]
    },
    {
      "cell_type": "code",
      "source": [],
      "metadata": {
        "id": "OEghtkAmKjM8"
      },
      "execution_count": null,
      "outputs": []
    }
  ]
}